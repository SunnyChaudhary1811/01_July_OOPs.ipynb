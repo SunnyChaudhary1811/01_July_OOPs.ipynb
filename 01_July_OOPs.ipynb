{
 "cells": [
  {
   "cell_type": "markdown",
   "id": "2e7e4a17",
   "metadata": {},
   "source": [
    "# Assignment oops1"
   ]
  },
  {
   "cell_type": "markdown",
   "id": "fc37514a",
   "metadata": {},
   "source": [
    "Q1:-"
   ]
  },
  {
   "cell_type": "markdown",
   "id": "5df55380",
   "metadata": {},
   "source": [
    "The primary goal of Object-Oriented Programming (OOP) is to create organized, reusable, and maintainable code by modeling real-world entities as objects. OOP achieves this through encapsulation, abstraction, inheritance, and polymorphism, leading to modularity, code reuse, and easier collaboration among developers."
   ]
  },
  {
   "cell_type": "markdown",
   "id": "9deef393",
   "metadata": {},
   "source": [
    "Q2:-"
   ]
  },
  {
   "cell_type": "markdown",
   "id": "434fdef3",
   "metadata": {},
   "source": [
    "In Python, an object is a self-contained unit representing a specific instance of a class. It encapsulates data (attributes) and behavior (methods). Objects are created based on class blueprints and have a unique identity, state, and behavior."
   ]
  },
  {
   "cell_type": "markdown",
   "id": "367dcd2e",
   "metadata": {},
   "source": [
    "Q3:-"
   ]
  },
  {
   "cell_type": "markdown",
   "id": "060ca7fe",
   "metadata": {},
   "source": [
    "\n",
    " A class is a blueprint defining the structure and behavior of objects. It encapsulates attributes (data) and methods (functions). Instances of a class are objects created based on the class, possessing their own attributes and methods. Classes promote code organization, encapsulation, and code reuse through inheritance."
   ]
  },
  {
   "cell_type": "markdown",
   "id": "f6c8f92d",
   "metadata": {},
   "source": [
    "Q4:-"
   ]
  },
  {
   "cell_type": "markdown",
   "id": "84cf77ee",
   "metadata": {},
   "source": [
    "Attributes in a class are variables that hold data specific to instances. They represent the state of objects.\n",
    "\n",
    "Methods in a class are functions that define behavior for instances. They operate on attributes and perform actions."
   ]
  },
  {
   "cell_type": "markdown",
   "id": "238272ba",
   "metadata": {},
   "source": [
    "Q5:-"
   ]
  },
  {
   "cell_type": "markdown",
   "id": "5549e1cf",
   "metadata": {},
   "source": [
    "Class variables are shared among all instances of a class, while instance variables are unique to each instance. Class variables hold data common to all instances, while instance variables hold data specific to an instance."
   ]
  },
  {
   "cell_type": "markdown",
   "id": "1be0407a",
   "metadata": {},
   "source": [
    "Q6:-"
   ]
  },
  {
   "cell_type": "markdown",
   "id": "0e60f4f2",
   "metadata": {},
   "source": [
    "\n",
    "The self parameter in Python class methods refers to the instance of the class itself. It allows methods to access and manipulate the instance's attributes and methods."
   ]
  },
  {
   "cell_type": "markdown",
   "id": "672ab234",
   "metadata": {},
   "source": [
    "Q7:-"
   ]
  },
  {
   "cell_type": "code",
   "execution_count": 1,
   "id": "c9306da3",
   "metadata": {},
   "outputs": [
    {
     "name": "stdout",
     "output_type": "stream",
     "text": [
      "Title: The Great Gatsby\n",
      "Author: F. Scott Fitzgerald\n",
      "ISBN: 978-0743273565\n",
      "Publication Year: 1925\n",
      "Available Copies: 5\n",
      "Book 'The Great Gatsby' checked out. Available copies: 4\n",
      "Book 'The Great Gatsby' returned. Available copies: 5\n"
     ]
    }
   ],
   "source": [
    "class Book:\n",
    "    def __init__(self, title, author, isbn, publication_year, available_copies):\n",
    "        self.title = title\n",
    "        self.author = author\n",
    "        self.isbn = isbn\n",
    "        self.publication_year = publication_year\n",
    "        self.available_copies = available_copies\n",
    "    \n",
    "    def check_out(self):\n",
    "        if self.available_copies > 0:\n",
    "            self.available_copies -= 1\n",
    "            print(f\"Book '{self.title}' checked out. Available copies: {self.available_copies}\")\n",
    "        else:\n",
    "            print(\"No available copies for checkout.\")\n",
    "    \n",
    "    def return_book(self):\n",
    "        self.available_copies += 1\n",
    "        print(f\"Book '{self.title}' returned. Available copies: {self.available_copies}\")\n",
    "    \n",
    "    def display_book_info(self):\n",
    "        print(f\"Title: {self.title}\")\n",
    "        print(f\"Author: {self.author}\")\n",
    "        print(f\"ISBN: {self.isbn}\")\n",
    "        print(f\"Publication Year: {self.publication_year}\")\n",
    "        print(f\"Available Copies: {self.available_copies}\")\n",
    "\n",
    "# Example usage\n",
    "book1 = Book(\"The Great Gatsby\", \"F. Scott Fitzgerald\", \"978-0743273565\", 1925, 5)\n",
    "book1.display_book_info()\n",
    "book1.check_out()\n",
    "book1.return_book()\n"
   ]
  },
  {
   "cell_type": "markdown",
   "id": "fec279d0",
   "metadata": {},
   "source": [
    "Q8:-"
   ]
  },
  {
   "cell_type": "code",
   "execution_count": 2,
   "id": "440054af",
   "metadata": {},
   "outputs": [
    {
     "name": "stdout",
     "output_type": "stream",
     "text": [
      "Ticket ID: T123\n",
      "Event Name: Concert\n",
      "Event Date: 2023-09-15\n",
      "Venue: Music Hall\n",
      "Seat Number: A23\n",
      "Price: $50.00\n",
      "Reservation Status: Not Reserved\n",
      "Ticket T123 reserved.\n",
      "Reservation for ticket T123 canceled.\n"
     ]
    }
   ],
   "source": [
    "class Ticket:\n",
    "    def __init__(self, ticket_id, event_name, event_date, venue, seat_number, price):\n",
    "        self.ticket_id = ticket_id\n",
    "        self.event_name = event_name\n",
    "        self.event_date = event_date\n",
    "        self.venue = venue\n",
    "        self.seat_number = seat_number\n",
    "        self.price = price\n",
    "        self.is_reserved = False\n",
    "    \n",
    "    def reserve_ticket(self):\n",
    "        if not self.is_reserved:\n",
    "            self.is_reserved = True\n",
    "            print(f\"Ticket {self.ticket_id} reserved.\")\n",
    "        else:\n",
    "            print(f\"Ticket {self.ticket_id} is already reserved.\")\n",
    "    \n",
    "    def cancel_reservation(self):\n",
    "        if self.is_reserved:\n",
    "            self.is_reserved = False\n",
    "            print(f\"Reservation for ticket {self.ticket_id} canceled.\")\n",
    "        else:\n",
    "            print(f\"Ticket {self.ticket_id} is not reserved.\")\n",
    "    \n",
    "    def display_ticket_info(self):\n",
    "        print(f\"Ticket ID: {self.ticket_id}\")\n",
    "        print(f\"Event Name: {self.event_name}\")\n",
    "        print(f\"Event Date: {self.event_date}\")\n",
    "        print(f\"Venue: {self.venue}\")\n",
    "        print(f\"Seat Number: {self.seat_number}\")\n",
    "        print(f\"Price: ${self.price:.2f}\")\n",
    "        print(f\"Reservation Status: {'Reserved' if self.is_reserved else 'Not Reserved'}\")\n",
    "\n",
    "# Example usage\n",
    "ticket1 = Ticket(\"T123\", \"Concert\", \"2023-09-15\", \"Music Hall\", \"A23\", 50.0)\n",
    "ticket1.display_ticket_info()\n",
    "ticket1.reserve_ticket()\n",
    "ticket1.cancel_reservation()\n"
   ]
  },
  {
   "cell_type": "markdown",
   "id": "0ce8a101",
   "metadata": {},
   "source": [
    "Q9:-"
   ]
  },
  {
   "cell_type": "code",
   "execution_count": 3,
   "id": "7a0dd0df",
   "metadata": {},
   "outputs": [
    {
     "name": "stdout",
     "output_type": "stream",
     "text": [
      "Item 'Shirt' added to the cart.\n",
      "Item 'Shoes' added to the cart.\n",
      "Item 'Hat' added to the cart.\n",
      "Items in the cart:\n",
      "- Shirt\n",
      "- Shoes\n",
      "- Hat\n",
      "Item 'Shoes' removed from the cart.\n",
      "Items in the cart:\n",
      "- Shirt\n",
      "- Hat\n"
     ]
    }
   ],
   "source": [
    "class ShoppingCart:\n",
    "    def __init__(self):\n",
    "        self.items = []\n",
    "    \n",
    "    def add_item(self, item):\n",
    "        self.items.append(item)\n",
    "        print(f\"Item '{item}' added to the cart.\")\n",
    "    \n",
    "    def remove_item(self, item):\n",
    "        if item in self.items:\n",
    "            self.items.remove(item)\n",
    "            print(f\"Item '{item}' removed from the cart.\")\n",
    "        else:\n",
    "            print(f\"Item '{item}' not found in the cart.\")\n",
    "    \n",
    "    def view_cart(self):\n",
    "        if self.items:\n",
    "            print(\"Items in the cart:\")\n",
    "            for item in self.items:\n",
    "                print(\"-\", item)\n",
    "        else:\n",
    "            print(\"The cart is empty.\")\n",
    "\n",
    "# Example usage\n",
    "cart = ShoppingCart()\n",
    "\n",
    "cart.add_item(\"Shirt\")\n",
    "cart.add_item(\"Shoes\")\n",
    "cart.add_item(\"Hat\")\n",
    "\n",
    "cart.view_cart()\n",
    "\n",
    "cart.remove_item(\"Shoes\")\n",
    "\n",
    "cart.view_cart()\n"
   ]
  },
  {
   "cell_type": "code",
   "execution_count": null,
   "id": "63af10a2",
   "metadata": {},
   "outputs": [],
   "source": []
  }
 ],
 "metadata": {
  "kernelspec": {
   "display_name": "Python 3 (ipykernel)",
   "language": "python",
   "name": "python3"
  },
  "language_info": {
   "codemirror_mode": {
    "name": "ipython",
    "version": 3
   },
   "file_extension": ".py",
   "mimetype": "text/x-python",
   "name": "python",
   "nbconvert_exporter": "python",
   "pygments_lexer": "ipython3",
   "version": "3.9.13"
  }
 },
 "nbformat": 4,
 "nbformat_minor": 5
}
